{
 "cells": [
  {
   "cell_type": "code",
   "execution_count": 1,
   "metadata": {
    "_kg_hide-input": true,
    "_kg_hide-output": true,
    "execution": {
     "iopub.execute_input": "2021-06-20T08:24:20.443081Z",
     "iopub.status.busy": "2021-06-20T08:24:20.433037Z",
     "iopub.status.idle": "2021-06-20T08:25:29.259753Z",
     "shell.execute_reply": "2021-06-20T08:25:29.259166Z",
     "shell.execute_reply.started": "2021-06-20T07:57:48.303256Z"
    },
    "papermill": {
     "duration": 68.860586,
     "end_time": "2021-06-20T08:25:29.259911",
     "exception": false,
     "start_time": "2021-06-20T08:24:20.399325",
     "status": "completed"
    },
    "tags": []
   },
   "outputs": [
    {
     "name": "stdout",
     "output_type": "stream",
     "text": [
      "\r\n",
      "Downloading and Extracting Packages\r\n",
      "######################################################################## | 100% \r\n",
      "Preparing transaction: - \b\bdone\r\n",
      "Verifying transaction: | \b\bdone\r\n",
      "Executing transaction: - \b\b\\ \b\bdone\r\n",
      "\r\n",
      "Downloading and Extracting Packages\r\n",
      "######################################################################## | 100% \r\n",
      "Preparing transaction: - \b\bdone\r\n",
      "Verifying transaction: | \b\bdone\r\n",
      "Executing transaction: - \b\b\\ \b\b| \b\bdone\r\n",
      "\r\n",
      "Downloading and Extracting Packages\r\n",
      "######################################################################## | 100% \r\n",
      "Preparing transaction: - \b\bdone\r\n",
      "Verifying transaction: | \b\bdone\r\n",
      "Executing transaction: - \b\bdone\r\n",
      "\r\n",
      "Downloading and Extracting Packages\r\n",
      "######################################################################## | 100% \r\n",
      "Preparing transaction: - \b\bdone\r\n",
      "Verifying transaction: | \b\bdone\r\n",
      "Executing transaction: - \b\b\\ \b\b| \b\b/ \b\b- \b\b\\ \b\b| \b\b/ \b\b- \b\b\\ \b\b| \b\b/ \b\b- \b\b\\ \b\b| \b\b/ \b\b- \b\b\\ \b\b| \b\bdone\r\n",
      "\r\n",
      "Downloading and Extracting Packages\r\n",
      "######################################################################## | 100% \r\n",
      "Preparing transaction: - \b\bdone\r\n",
      "Verifying transaction: | \b\bdone\r\n",
      "Executing transaction: - \b\bdone\r\n",
      "\r\n",
      "Downloading and Extracting Packages\r\n",
      "######################################################################## | 100% \r\n",
      "Preparing transaction: - \b\bdone\r\n",
      "Verifying transaction: | \b\bdone\r\n",
      "Executing transaction: - \b\b\\ \b\b| \b\b/ \b\b- \b\b\\ \b\bdone\r\n"
     ]
    }
   ],
   "source": [
    "!conda install '/kaggle/input/pydicom-conda-helper/libjpeg-turbo-2.1.0-h7f98852_0.tar.bz2' -c conda-forge -y\n",
    "!conda install '/kaggle/input/pydicom-conda-helper/libgcc-ng-9.3.0-h2828fa1_19.tar.bz2' -c conda-forge -y\n",
    "!conda install '/kaggle/input/pydicom-conda-helper/gdcm-2.8.9-py37h500ead1_1.tar.bz2' -c conda-forge -y\n",
    "!conda install '/kaggle/input/pydicom-conda-helper/conda-4.10.1-py37h89c1867_0.tar.bz2' -c conda-forge -y\n",
    "!conda install '/kaggle/input/pydicom-conda-helper/certifi-2020.12.5-py37h89c1867_1.tar.bz2' -c conda-forge -y\n",
    "!conda install '/kaggle/input/pydicom-conda-helper/openssl-1.1.1k-h7f98852_0.tar.bz2' -c conda-forge -y"
   ]
  },
  {
   "cell_type": "code",
   "execution_count": 2,
   "metadata": {
    "_cell_guid": "b1076dfc-b9ad-4769-8c92-a6c4dae69d19",
    "_uuid": "8f2839f25d086af736a60e9eeb907d3b93b6e0e5",
    "execution": {
     "iopub.execute_input": "2021-06-20T08:25:29.331895Z",
     "iopub.status.busy": "2021-06-20T08:25:29.331358Z",
     "iopub.status.idle": "2021-06-20T08:25:29.339544Z",
     "shell.execute_reply": "2021-06-20T08:25:29.339097Z",
     "shell.execute_reply.started": "2021-06-20T07:59:02.882348Z"
    },
    "papermill": {
     "duration": 0.046262,
     "end_time": "2021-06-20T08:25:29.339658",
     "exception": false,
     "start_time": "2021-06-20T08:25:29.293396",
     "status": "completed"
    },
    "tags": []
   },
   "outputs": [],
   "source": [
    "import os\n",
    "\n",
    "from PIL import Image\n",
    "import pandas as pd\n",
    "from tqdm.auto import tqdm"
   ]
  },
  {
   "cell_type": "code",
   "execution_count": 3,
   "metadata": {
    "execution": {
     "iopub.execute_input": "2021-06-20T08:25:29.415525Z",
     "iopub.status.busy": "2021-06-20T08:25:29.414945Z",
     "iopub.status.idle": "2021-06-20T08:25:29.429109Z",
     "shell.execute_reply": "2021-06-20T08:25:29.428695Z",
     "shell.execute_reply.started": "2021-06-20T07:59:05.403784Z"
    },
    "papermill": {
     "duration": 0.055237,
     "end_time": "2021-06-20T08:25:29.429222",
     "exception": false,
     "start_time": "2021-06-20T08:25:29.373985",
     "status": "completed"
    },
    "tags": []
   },
   "outputs": [],
   "source": [
    "df = pd.read_csv('../input/siim-covid19-detection/sample_submission.csv')\n",
    "if df.shape[0] == 2477:\n",
    "    fast_sub = True\n",
    "    fast_df = pd.DataFrame(([['00086460a852_study', 'negative 1 0 0 1 1'], \n",
    "                         ['000c9c05fd14_study', 'negative 1 0 0 1 1'], \n",
    "                         ['65761e66de9f_image', 'none 1 0 0 1 1'], \n",
    "                         ['51759b5579bc_image', 'none 1 0 0 1 1']]), \n",
    "                       columns=['id', 'PredictionString'])\n",
    "else:\n",
    "    fast_sub = False\n"
   ]
  },
  {
   "cell_type": "markdown",
   "metadata": {
    "papermill": {
     "duration": 0.032762,
     "end_time": "2021-06-20T08:25:29.495350",
     "exception": false,
     "start_time": "2021-06-20T08:25:29.462588",
     "status": "completed"
    },
    "tags": []
   },
   "source": [
    "# .dcm to .png"
   ]
  },
  {
   "cell_type": "code",
   "execution_count": 4,
   "metadata": {
    "execution": {
     "iopub.execute_input": "2021-06-20T08:25:29.568152Z",
     "iopub.status.busy": "2021-06-20T08:25:29.567371Z",
     "iopub.status.idle": "2021-06-20T08:25:29.723211Z",
     "shell.execute_reply": "2021-06-20T08:25:29.722755Z",
     "shell.execute_reply.started": "2021-06-20T07:59:08.396645Z"
    },
    "papermill": {
     "duration": 0.195057,
     "end_time": "2021-06-20T08:25:29.723346",
     "exception": false,
     "start_time": "2021-06-20T08:25:29.528289",
     "status": "completed"
    },
    "tags": []
   },
   "outputs": [],
   "source": [
    "import numpy as np\n",
    "import pydicom\n",
    "from pydicom.pixel_data_handlers.util import apply_voi_lut\n",
    "\n",
    "def read_xray(path, voi_lut = True, fix_monochrome = True):\n",
    "    dicom = pydicom.read_file(path)\n",
    "    \n",
    "    if voi_lut:\n",
    "        data = apply_voi_lut(dicom.pixel_array, dicom)\n",
    "    else:\n",
    "        data = dicom.pixel_array\n",
    "               \n",
    "    if fix_monochrome and dicom.PhotometricInterpretation == \"MONOCHROME1\":\n",
    "        data = np.amax(data) - data\n",
    "        \n",
    "    data = data - np.min(data)\n",
    "    data = data / np.max(data)\n",
    "    data = (data * 255).astype(np.uint8)\n",
    "        \n",
    "    return data"
   ]
  },
  {
   "cell_type": "code",
   "execution_count": 5,
   "metadata": {
    "execution": {
     "iopub.execute_input": "2021-06-20T08:25:29.795518Z",
     "iopub.status.busy": "2021-06-20T08:25:29.794696Z",
     "iopub.status.idle": "2021-06-20T08:25:29.796962Z",
     "shell.execute_reply": "2021-06-20T08:25:29.797374Z",
     "shell.execute_reply.started": "2021-06-20T07:59:10.750658Z"
    },
    "papermill": {
     "duration": 0.040694,
     "end_time": "2021-06-20T08:25:29.797503",
     "exception": false,
     "start_time": "2021-06-20T08:25:29.756809",
     "status": "completed"
    },
    "tags": []
   },
   "outputs": [],
   "source": [
    "def resize(array, size, keep_ratio=False, resample=Image.LANCZOS):\n",
    "\n",
    "    im = Image.fromarray(array)\n",
    "    \n",
    "    if keep_ratio:\n",
    "        im.thumbnail((size, size), resample)\n",
    "    else:\n",
    "        im = im.resize((size, size), resample)\n",
    "    \n",
    "    return im"
   ]
  },
  {
   "cell_type": "code",
   "execution_count": 6,
   "metadata": {
    "execution": {
     "iopub.execute_input": "2021-06-20T08:25:29.871899Z",
     "iopub.status.busy": "2021-06-20T08:25:29.871298Z",
     "iopub.status.idle": "2021-06-20T08:25:31.367194Z",
     "shell.execute_reply": "2021-06-20T08:25:31.366686Z",
     "shell.execute_reply.started": "2021-06-20T07:59:13.873433Z"
    },
    "papermill": {
     "duration": 1.536636,
     "end_time": "2021-06-20T08:25:31.367400",
     "exception": false,
     "start_time": "2021-06-20T08:25:29.830764",
     "status": "completed"
    },
    "tags": []
   },
   "outputs": [],
   "source": [
    "\n",
    "split = 'test'\n",
    "save_dir = f'/kaggle/tmp/{split}/'\n",
    "\n",
    "os.makedirs(save_dir, exist_ok=True)\n",
    "\n",
    "save_dir = f'/kaggle/tmp/{split}/study/'\n",
    "os.makedirs(save_dir, exist_ok=True)\n",
    "if fast_sub:\n",
    "    xray = read_xray('../input/siim-covid19-detection/train/00086460a852/9e8302230c91/65761e66de9f.dcm')\n",
    "    im = resize(xray, size=600)  \n",
    "    study = '00086460a852' + '_study.png'\n",
    "    im.save(os.path.join(save_dir, study))\n",
    "    xray = read_xray('../input/siim-covid19-detection/train/000c9c05fd14/e555410bd2cd/51759b5579bc.dcm')\n",
    "    im = resize(xray, size=600)  \n",
    "    study = '000c9c05fd14' + '_study.png'\n",
    "    im.save(os.path.join(save_dir, study))\n",
    "else:   \n",
    "    for dirname, _, filenames in tqdm(os.walk(f'../input/siim-covid19-detection/{split}')):\n",
    "        for file in filenames:\n",
    "            # set keep_ratio=True to have original aspect ratio\n",
    "            xray = read_xray(os.path.join(dirname, file))\n",
    "            im = resize(xray, size=600)  \n",
    "            study = dirname.split('/')[-2] + '_study.png'\n",
    "            im.save(os.path.join(save_dir, study))\n"
   ]
  },
  {
   "cell_type": "code",
   "execution_count": 7,
   "metadata": {
    "execution": {
     "iopub.execute_input": "2021-06-20T08:25:31.463299Z",
     "iopub.status.busy": "2021-06-20T08:25:31.462386Z",
     "iopub.status.idle": "2021-06-20T08:25:31.822366Z",
     "shell.execute_reply": "2021-06-20T08:25:31.821714Z",
     "shell.execute_reply.started": "2021-06-20T07:59:19.448299Z"
    },
    "papermill": {
     "duration": 0.414752,
     "end_time": "2021-06-20T08:25:31.822507",
     "exception": false,
     "start_time": "2021-06-20T08:25:31.407755",
     "status": "completed"
    },
    "tags": []
   },
   "outputs": [],
   "source": [
    "image_id = []\n",
    "dim0 = []\n",
    "dim1 = []\n",
    "splits = []\n",
    "save_dir = f'/kaggle/tmp/{split}/image/'\n",
    "os.makedirs(save_dir, exist_ok=True)\n",
    "if fast_sub:\n",
    "    xray = read_xray('../input/siim-covid19-detection/train/00086460a852/9e8302230c91/65761e66de9f.dcm')\n",
    "    im = resize(xray, size=512)  \n",
    "    im.save(os.path.join(save_dir,'65761e66de9f_image.png'))\n",
    "    image_id.append('65761e66de9f.dcm'.replace('.dcm', ''))\n",
    "    dim0.append(xray.shape[0])\n",
    "    dim1.append(xray.shape[1])\n",
    "    splits.append(split)\n",
    "    xray = read_xray('../input/siim-covid19-detection/train/000c9c05fd14/e555410bd2cd/51759b5579bc.dcm')\n",
    "    im = resize(xray, size=512)  \n",
    "    im.save(os.path.join(save_dir, '51759b5579bc_image.png'))\n",
    "    image_id.append('51759b5579bc.dcm'.replace('.dcm', ''))\n",
    "    dim0.append(xray.shape[0])\n",
    "    dim1.append(xray.shape[1])\n",
    "    splits.append(split)\n",
    "else:\n",
    "    for dirname, _, filenames in tqdm(os.walk(f'../input/siim-covid19-detection/{split}')):\n",
    "        for file in filenames:\n",
    "            xray = read_xray(os.path.join(dirname, file))\n",
    "            im = resize(xray, size=512)  \n",
    "            im.save(os.path.join(save_dir, file.replace('.dcm', '_image.png')))\n",
    "            image_id.append(file.replace('.dcm', ''))\n",
    "            dim0.append(xray.shape[0])\n",
    "            dim1.append(xray.shape[1])\n",
    "            splits.append(split)\n",
    "meta = pd.DataFrame.from_dict({'image_id': image_id, 'dim0': dim0, 'dim1': dim1, 'split': splits})"
   ]
  },
  {
   "cell_type": "markdown",
   "metadata": {
    "papermill": {
     "duration": 0.033299,
     "end_time": "2021-06-20T08:25:31.889436",
     "exception": false,
     "start_time": "2021-06-20T08:25:31.856137",
     "status": "completed"
    },
    "tags": []
   },
   "source": [
    "# study predict"
   ]
  },
  {
   "cell_type": "code",
   "execution_count": 8,
   "metadata": {
    "execution": {
     "iopub.execute_input": "2021-06-20T08:25:31.978424Z",
     "iopub.status.busy": "2021-06-20T08:25:31.977705Z",
     "iopub.status.idle": "2021-06-20T08:25:31.980201Z",
     "shell.execute_reply": "2021-06-20T08:25:31.980687Z",
     "shell.execute_reply.started": "2021-06-20T07:59:22.511835Z"
    },
    "papermill": {
     "duration": 0.052027,
     "end_time": "2021-06-20T08:25:31.980845",
     "exception": false,
     "start_time": "2021-06-20T08:25:31.928818",
     "status": "completed"
    },
    "tags": []
   },
   "outputs": [],
   "source": [
    "import numpy as np \n",
    "import pandas as pd\n",
    "if fast_sub:\n",
    "    df = fast_df.copy()\n",
    "else:\n",
    "    df = pd.read_csv('../input/siim-covid19-detection/sample_submission.csv')\n",
    "id_laststr_list  = []\n",
    "for i in range(df.shape[0]):\n",
    "    id_laststr_list.append(df.loc[i,'id'][-1])\n",
    "df['id_last_str'] = id_laststr_list\n",
    "\n",
    "study_len = df[df['id_last_str'] == 'y'].shape[0]"
   ]
  },
  {
   "cell_type": "code",
   "execution_count": 9,
   "metadata": {
    "execution": {
     "iopub.execute_input": "2021-06-20T08:25:32.071045Z",
     "iopub.status.busy": "2021-06-20T08:25:32.060724Z",
     "iopub.status.idle": "2021-06-20T08:28:40.745743Z",
     "shell.execute_reply": "2021-06-20T08:28:40.745291Z",
     "shell.execute_reply.started": "2021-06-20T07:59:25.387859Z"
    },
    "papermill": {
     "duration": 188.731734,
     "end_time": "2021-06-20T08:28:40.745873",
     "exception": false,
     "start_time": "2021-06-20T08:25:32.014139",
     "status": "completed"
    },
    "tags": []
   },
   "outputs": [
    {
     "name": "stdout",
     "output_type": "stream",
     "text": [
      "Running on 1 replicas\n",
      "1/1 [==============================] - 8s 8s/step\n",
      "1/1 [==============================] - 4s 4s/step\n",
      "1/1 [==============================] - 5s 5s/step\n",
      "1/1 [==============================] - 4s 4s/step\n",
      "1/1 [==============================] - 4s 4s/step\n"
     ]
    }
   ],
   "source": [
    "!pip install /kaggle/input/kerasapplications -q\n",
    "!pip install /kaggle/input/efficientnet-keras-source-code/ -q --no-deps\n",
    "\n",
    "import os\n",
    "\n",
    "import efficientnet.tfkeras as efn\n",
    "import numpy as np\n",
    "import pandas as pd\n",
    "import tensorflow as tf\n",
    "\n",
    "def auto_select_accelerator():\n",
    "    try:\n",
    "        tpu = tf.distribute.cluster_resolver.TPUClusterResolver()\n",
    "        tf.config.experimental_connect_to_cluster(tpu)\n",
    "        tf.tpu.experimental.initialize_tpu_system(tpu)\n",
    "        strategy = tf.distribute.experimental.TPUStrategy(tpu)\n",
    "        print(\"Running on TPU:\", tpu.master())\n",
    "    except ValueError:\n",
    "        strategy = tf.distribute.get_strategy()\n",
    "    print(f\"Running on {strategy.num_replicas_in_sync} replicas\")\n",
    "\n",
    "    return strategy\n",
    "\n",
    "\n",
    "def build_decoder(with_labels=True, target_size=(300, 300), ext='jpg'):\n",
    "    def decode(path):\n",
    "        file_bytes = tf.io.read_file(path)\n",
    "        if ext == 'png':\n",
    "            img = tf.image.decode_png(file_bytes, channels=3)\n",
    "        elif ext in ['jpg', 'jpeg']:\n",
    "            img = tf.image.decode_jpeg(file_bytes, channels=3)\n",
    "        else:\n",
    "            raise ValueError(\"Image extension not supported\")\n",
    "\n",
    "        img = tf.cast(img, tf.float32) / 255.0\n",
    "        img = tf.image.resize(img, target_size)\n",
    "\n",
    "        return img\n",
    "\n",
    "    def decode_with_labels(path, label):\n",
    "        return decode(path), label\n",
    "\n",
    "    return decode_with_labels if with_labels else decode\n",
    "\n",
    "\n",
    "def build_augmenter(with_labels=True):\n",
    "    def augment(img):\n",
    "        img = tf.image.random_flip_left_right(img)\n",
    "        img = tf.image.random_flip_up_down(img)\n",
    "        return img\n",
    "\n",
    "    def augment_with_labels(img, label):\n",
    "        return augment(img), label\n",
    "\n",
    "    return augment_with_labels if with_labels else augment\n",
    "\n",
    "\n",
    "def build_dataset(paths, labels=None, bsize=32, cache=True,\n",
    "                  decode_fn=None, augment_fn=None,\n",
    "                  augment=True, repeat=True, shuffle=1024, \n",
    "                  cache_dir=\"\"):\n",
    "    if cache_dir != \"\" and cache is True:\n",
    "        os.makedirs(cache_dir, exist_ok=True)\n",
    "\n",
    "    if decode_fn is None:\n",
    "        decode_fn = build_decoder(labels is not None)\n",
    "\n",
    "    if augment_fn is None:\n",
    "        augment_fn = build_augmenter(labels is not None)\n",
    "\n",
    "    AUTO = tf.data.experimental.AUTOTUNE\n",
    "    slices = paths if labels is None else (paths, labels)\n",
    "\n",
    "    dset = tf.data.Dataset.from_tensor_slices(slices)\n",
    "    dset = dset.map(decode_fn, num_parallel_calls=AUTO)\n",
    "    dset = dset.cache(cache_dir) if cache else dset\n",
    "    dset = dset.map(augment_fn, num_parallel_calls=AUTO) if augment else dset\n",
    "    dset = dset.repeat() if repeat else dset\n",
    "    dset = dset.shuffle(shuffle) if shuffle else dset\n",
    "    dset = dset.batch(bsize).prefetch(AUTO)\n",
    "\n",
    "    return dset\n",
    "\n",
    "\n",
    "strategy = auto_select_accelerator()\n",
    "BATCH_SIZE = strategy.num_replicas_in_sync * 16\n",
    "\n",
    "IMSIZE = (224, 240, 260, 300, 380, 456, 528, 600, 512)\n",
    "\n",
    "\n",
    "if fast_sub:\n",
    "    sub_df = fast_df.copy()\n",
    "else:\n",
    "    sub_df = pd.read_csv('../input/siim-covid19-detection/sample_submission.csv')\n",
    "sub_df = sub_df[:study_len]\n",
    "test_paths = f'/kaggle/tmp/{split}/study/' + sub_df['id'] +'.png'\n",
    "\n",
    "sub_df['negative'] = 0\n",
    "sub_df['typical'] = 0\n",
    "sub_df['indeterminate'] = 0\n",
    "sub_df['atypical'] = 0\n",
    "\n",
    "\n",
    "label_cols = sub_df.columns[2:]\n",
    "\n",
    "test_decoder = build_decoder(with_labels=False, target_size=(IMSIZE[7], IMSIZE[7]), ext='png')\n",
    "dtest = build_dataset(\n",
    "    test_paths, bsize=BATCH_SIZE, repeat=False, \n",
    "    shuffle=False, augment=False, cache=False,\n",
    "    decode_fn=test_decoder\n",
    ")\n",
    "\n",
    "with strategy.scope():\n",
    "    \n",
    "    models = []\n",
    "    \n",
    "    models0 = tf.keras.models.load_model(\n",
    "        '../input/siim-covid19-efnb7-train-study/model0.h5'\n",
    "    )\n",
    "    models1 = tf.keras.models.load_model(\n",
    "        '../input/siim-covid19-efnb7-train-study/model1.h5'\n",
    "    )\n",
    "    models2 = tf.keras.models.load_model(\n",
    "        '../input/siim-covid19-efnb7-train-study/model2.h5'\n",
    "    )\n",
    "    models3 = tf.keras.models.load_model(\n",
    "        '../input/siim-covid19-efnb7-train-study/model3.h5'\n",
    "    )\n",
    "    models4 = tf.keras.models.load_model(\n",
    "        '../input/siim-covid19-efnb7-train-study/model4.h5'\n",
    "    )\n",
    "    \n",
    "    models.append(models0)\n",
    "    models.append(models1)\n",
    "    models.append(models2)\n",
    "    models.append(models3)\n",
    "    models.append(models4)\n",
    "\n",
    "    \n",
    "    \n",
    "    \n",
    "sub_df[label_cols] = sum([model.predict(dtest, verbose=1) for model in models]) / len(models)"
   ]
  },
  {
   "cell_type": "code",
   "execution_count": 10,
   "metadata": {
    "execution": {
     "iopub.execute_input": "2021-06-20T08:28:40.829295Z",
     "iopub.status.busy": "2021-06-20T08:28:40.828016Z",
     "iopub.status.idle": "2021-06-20T08:28:40.830423Z",
     "shell.execute_reply": "2021-06-20T08:28:40.830817Z",
     "shell.execute_reply.started": "2021-06-20T08:02:34.924180Z"
    },
    "papermill": {
     "duration": 0.049298,
     "end_time": "2021-06-20T08:28:40.830952",
     "exception": false,
     "start_time": "2021-06-20T08:28:40.781654",
     "status": "completed"
    },
    "tags": []
   },
   "outputs": [],
   "source": [
    "sub_df.columns = ['id', 'PredictionString1', 'negative', 'typical', 'indeterminate', 'atypical']\n",
    "df = pd.merge(df, sub_df, on = 'id', how = 'left')"
   ]
  },
  {
   "cell_type": "markdown",
   "metadata": {
    "papermill": {
     "duration": 0.035842,
     "end_time": "2021-06-20T08:28:40.903483",
     "exception": false,
     "start_time": "2021-06-20T08:28:40.867641",
     "status": "completed"
    },
    "tags": []
   },
   "source": [
    "# study string"
   ]
  },
  {
   "cell_type": "code",
   "execution_count": 11,
   "metadata": {
    "execution": {
     "iopub.execute_input": "2021-06-20T08:28:40.984340Z",
     "iopub.status.busy": "2021-06-20T08:28:40.983798Z",
     "iopub.status.idle": "2021-06-20T08:28:40.987726Z",
     "shell.execute_reply": "2021-06-20T08:28:40.987291Z",
     "shell.execute_reply.started": "2021-06-20T08:02:39.054696Z"
    },
    "papermill": {
     "duration": 0.046396,
     "end_time": "2021-06-20T08:28:40.987832",
     "exception": false,
     "start_time": "2021-06-20T08:28:40.941436",
     "status": "completed"
    },
    "tags": []
   },
   "outputs": [],
   "source": [
    "for i in range(study_len):\n",
    "    negative = df.loc[i,'negative']\n",
    "    typical = df.loc[i,'typical']\n",
    "    indeterminate = df.loc[i,'indeterminate']\n",
    "    atypical = df.loc[i,'atypical']\n",
    "    df.loc[i, 'PredictionString'] = f'negative {negative} 0 0 1 1 typical {typical} 0 0 1 1 indeterminate {indeterminate} 0 0 1 1 atypical {atypical} 0 0 1 1'"
   ]
  },
  {
   "cell_type": "code",
   "execution_count": 12,
   "metadata": {
    "execution": {
     "iopub.execute_input": "2021-06-20T08:28:41.065767Z",
     "iopub.status.busy": "2021-06-20T08:28:41.064945Z",
     "iopub.status.idle": "2021-06-20T08:28:41.067152Z",
     "shell.execute_reply": "2021-06-20T08:28:41.067663Z",
     "shell.execute_reply.started": "2021-06-20T08:02:42.046981Z"
    },
    "papermill": {
     "duration": 0.044038,
     "end_time": "2021-06-20T08:28:41.067807",
     "exception": false,
     "start_time": "2021-06-20T08:28:41.023769",
     "status": "completed"
    },
    "tags": []
   },
   "outputs": [],
   "source": [
    "df_study = df[['id', 'PredictionString']]\n"
   ]
  },
  {
   "cell_type": "code",
   "execution_count": 13,
   "metadata": {
    "execution": {
     "iopub.execute_input": "2021-06-20T08:28:41.148763Z",
     "iopub.status.busy": "2021-06-20T08:28:41.147951Z",
     "iopub.status.idle": "2021-06-20T08:28:41.155655Z",
     "shell.execute_reply": "2021-06-20T08:28:41.155139Z",
     "shell.execute_reply.started": "2021-06-20T08:02:55.922570Z"
    },
    "papermill": {
     "duration": 0.051994,
     "end_time": "2021-06-20T08:28:41.155783",
     "exception": false,
     "start_time": "2021-06-20T08:28:41.103789",
     "status": "completed"
    },
    "tags": []
   },
   "outputs": [
    {
     "data": {
      "text/html": [
       "<div>\n",
       "<style scoped>\n",
       "    .dataframe tbody tr th:only-of-type {\n",
       "        vertical-align: middle;\n",
       "    }\n",
       "\n",
       "    .dataframe tbody tr th {\n",
       "        vertical-align: top;\n",
       "    }\n",
       "\n",
       "    .dataframe thead th {\n",
       "        text-align: right;\n",
       "    }\n",
       "</style>\n",
       "<table border=\"1\" class=\"dataframe\">\n",
       "  <thead>\n",
       "    <tr style=\"text-align: right;\">\n",
       "      <th></th>\n",
       "      <th>id</th>\n",
       "      <th>PredictionString</th>\n",
       "    </tr>\n",
       "  </thead>\n",
       "  <tbody>\n",
       "    <tr>\n",
       "      <th>0</th>\n",
       "      <td>00086460a852_study</td>\n",
       "      <td>negative 0.07609739154577255 0 0 1 1 typical 0...</td>\n",
       "    </tr>\n",
       "    <tr>\n",
       "      <th>1</th>\n",
       "      <td>000c9c05fd14_study</td>\n",
       "      <td>negative 0.18779979646205902 0 0 1 1 typical 0...</td>\n",
       "    </tr>\n",
       "    <tr>\n",
       "      <th>2</th>\n",
       "      <td>65761e66de9f_image</td>\n",
       "      <td>none 1 0 0 1 1</td>\n",
       "    </tr>\n",
       "    <tr>\n",
       "      <th>3</th>\n",
       "      <td>51759b5579bc_image</td>\n",
       "      <td>none 1 0 0 1 1</td>\n",
       "    </tr>\n",
       "  </tbody>\n",
       "</table>\n",
       "</div>"
      ],
      "text/plain": [
       "                   id                                   PredictionString\n",
       "0  00086460a852_study  negative 0.07609739154577255 0 0 1 1 typical 0...\n",
       "1  000c9c05fd14_study  negative 0.18779979646205902 0 0 1 1 typical 0...\n",
       "2  65761e66de9f_image                                     none 1 0 0 1 1\n",
       "3  51759b5579bc_image                                     none 1 0 0 1 1"
      ]
     },
     "execution_count": 13,
     "metadata": {},
     "output_type": "execute_result"
    }
   ],
   "source": [
    "df_study"
   ]
  },
  {
   "cell_type": "markdown",
   "metadata": {
    "papermill": {
     "duration": 0.03614,
     "end_time": "2021-06-20T08:28:41.228140",
     "exception": false,
     "start_time": "2021-06-20T08:28:41.192000",
     "status": "completed"
    },
    "tags": []
   },
   "source": [
    "# 2 class"
   ]
  },
  {
   "cell_type": "code",
   "execution_count": 14,
   "metadata": {
    "execution": {
     "iopub.execute_input": "2021-06-20T08:28:41.314009Z",
     "iopub.status.busy": "2021-06-20T08:28:41.313229Z",
     "iopub.status.idle": "2021-06-20T08:30:56.811521Z",
     "shell.execute_reply": "2021-06-20T08:30:56.811059Z",
     "shell.execute_reply.started": "2021-06-20T08:03:05.899754Z"
    },
    "papermill": {
     "duration": 135.546622,
     "end_time": "2021-06-20T08:30:56.811655",
     "exception": false,
     "start_time": "2021-06-20T08:28:41.265033",
     "status": "completed"
    },
    "tags": []
   },
   "outputs": [
    {
     "name": "stdout",
     "output_type": "stream",
     "text": [
      "1/1 [==============================] - 5s 5s/step\n",
      "1/1 [==============================] - 4s 4s/step\n",
      "1/1 [==============================] - 4s 4s/step\n",
      "1/1 [==============================] - 4s 4s/step\n",
      "1/1 [==============================] - 5s 5s/step\n"
     ]
    }
   ],
   "source": [
    "if fast_sub:\n",
    "    sub_df = fast_df.copy()\n",
    "else:\n",
    "    sub_df = pd.read_csv('../input/siim-covid19-detection/sample_submission.csv')\n",
    "sub_df = sub_df[study_len:]\n",
    "test_paths = f'/kaggle/tmp/{split}/image/' + sub_df['id'] +'.png'\n",
    "sub_df['none'] = 0\n",
    "\n",
    "label_cols = sub_df.columns[2]\n",
    "\n",
    "test_decoder = build_decoder(with_labels=False, target_size=(IMSIZE[8], IMSIZE[8]), ext='png')\n",
    "dtest = build_dataset(\n",
    "    test_paths, bsize=BATCH_SIZE, repeat=False, \n",
    "    shuffle=False, augment=False, cache=False,\n",
    "    decode_fn=test_decoder\n",
    ")\n",
    "\n",
    "with strategy.scope():\n",
    "    \n",
    "    models = []\n",
    "    \n",
    "    models0 = tf.keras.models.load_model(\n",
    "        '../input/siim-covid19-efnb7-train-fold0-5-2class/model0.h5'\n",
    "    )\n",
    "    models1 = tf.keras.models.load_model(\n",
    "        '../input/siim-covid19-efnb7-train-fold0-5-2class/model1.h5'\n",
    "    )\n",
    "    models2 = tf.keras.models.load_model(\n",
    "        '../input/siim-covid19-efnb7-train-fold0-5-2class/model2.h5'\n",
    "    )\n",
    "    models3 = tf.keras.models.load_model(\n",
    "        '../input/siim-covid19-efnb7-train-fold0-5-2class/model3.h5'\n",
    "    )\n",
    "    models4 = tf.keras.models.load_model(\n",
    "        '../input/siim-covid19-efnb7-train-fold0-5-2class/model4.h5'\n",
    "    )\n",
    "    \n",
    "    models.append(models0)\n",
    "    models.append(models1)\n",
    "    models.append(models2)\n",
    "    models.append(models3)\n",
    "    models.append(models4)\n",
    "\n",
    "    \n",
    "    \n",
    "    \n",
    "sub_df[label_cols] = sum([model.predict(dtest, verbose=1) for model in models]) / len(models)\n",
    "df_2class = sub_df.reset_index(drop=True)"
   ]
  },
  {
   "cell_type": "code",
   "execution_count": 15,
   "metadata": {
    "execution": {
     "iopub.execute_input": "2021-06-20T08:30:56.893663Z",
     "iopub.status.busy": "2021-06-20T08:30:56.892905Z",
     "iopub.status.idle": "2021-06-20T08:30:56.895862Z",
     "shell.execute_reply": "2021-06-20T08:30:56.895395Z",
     "shell.execute_reply.started": "2021-06-20T08:05:15.221639Z"
    },
    "papermill": {
     "duration": 0.045163,
     "end_time": "2021-06-20T08:30:56.895969",
     "exception": false,
     "start_time": "2021-06-20T08:30:56.850806",
     "status": "completed"
    },
    "tags": []
   },
   "outputs": [],
   "source": [
    "del models\n",
    "del models0, models1, models2, models3, models4"
   ]
  },
  {
   "cell_type": "code",
   "execution_count": 16,
   "metadata": {
    "execution": {
     "iopub.execute_input": "2021-06-20T08:30:56.976705Z",
     "iopub.status.busy": "2021-06-20T08:30:56.976189Z",
     "iopub.status.idle": "2021-06-20T08:30:59.414852Z",
     "shell.execute_reply": "2021-06-20T08:30:59.414433Z",
     "shell.execute_reply.started": "2021-06-20T08:05:17.434088Z"
    },
    "papermill": {
     "duration": 2.480018,
     "end_time": "2021-06-20T08:30:59.414970",
     "exception": false,
     "start_time": "2021-06-20T08:30:56.934952",
     "status": "completed"
    },
    "tags": []
   },
   "outputs": [
    {
     "data": {
      "text/plain": [
       "<weakproxy at 0x7fc690d98110 to Device at 0x7fc6901dcb10>"
      ]
     },
     "execution_count": 16,
     "metadata": {},
     "output_type": "execute_result"
    }
   ],
   "source": [
    "from numba import cuda\n",
    "import torch\n",
    "cuda.select_device(0)\n",
    "cuda.close()\n",
    "cuda.select_device(0)"
   ]
  },
  {
   "cell_type": "markdown",
   "metadata": {
    "papermill": {
     "duration": 0.038879,
     "end_time": "2021-06-20T08:30:59.493782",
     "exception": false,
     "start_time": "2021-06-20T08:30:59.454903",
     "status": "completed"
    },
    "tags": []
   },
   "source": [
    "# yolov5 predict"
   ]
  },
  {
   "cell_type": "code",
   "execution_count": 17,
   "metadata": {
    "execution": {
     "iopub.execute_input": "2021-06-20T08:30:59.578902Z",
     "iopub.status.busy": "2021-06-20T08:30:59.578342Z",
     "iopub.status.idle": "2021-06-20T08:30:59.775351Z",
     "shell.execute_reply": "2021-06-20T08:30:59.774841Z",
     "shell.execute_reply.started": "2021-06-20T08:05:22.880808Z"
    },
    "papermill": {
     "duration": 0.241928,
     "end_time": "2021-06-20T08:30:59.775506",
     "exception": false,
     "start_time": "2021-06-20T08:30:59.533578",
     "status": "completed"
    },
    "tags": []
   },
   "outputs": [],
   "source": [
    "import numpy as np, pandas as pd\n",
    "from glob import glob\n",
    "import shutil, os\n",
    "import matplotlib.pyplot as plt\n",
    "from sklearn.model_selection import GroupKFold\n",
    "from tqdm.notebook import tqdm\n",
    "import seaborn as sns\n",
    "import torch"
   ]
  },
  {
   "cell_type": "code",
   "execution_count": 18,
   "metadata": {
    "execution": {
     "iopub.execute_input": "2021-06-20T08:30:59.864928Z",
     "iopub.status.busy": "2021-06-20T08:30:59.864221Z",
     "iopub.status.idle": "2021-06-20T08:30:59.867783Z",
     "shell.execute_reply": "2021-06-20T08:30:59.867334Z",
     "shell.execute_reply.started": "2021-06-20T08:05:26.831210Z"
    },
    "papermill": {
     "duration": 0.053151,
     "end_time": "2021-06-20T08:30:59.867892",
     "exception": false,
     "start_time": "2021-06-20T08:30:59.814741",
     "status": "completed"
    },
    "tags": []
   },
   "outputs": [],
   "source": [
    "meta = meta[meta['split'] == 'test']\n",
    "if fast_sub:\n",
    "    test_df = fast_df.copy()\n",
    "else:\n",
    "    test_df = pd.read_csv('../input/siim-covid19-detection/sample_submission.csv')\n",
    "test_df = df[study_len:].reset_index(drop=True) \n",
    "meta['image_id'] = meta['image_id'] + '_image'\n",
    "meta.columns = ['id', 'dim0', 'dim1', 'split']\n",
    "test_df = pd.merge(test_df, meta, on = 'id', how = 'left')\n"
   ]
  },
  {
   "cell_type": "code",
   "execution_count": 19,
   "metadata": {
    "execution": {
     "iopub.execute_input": "2021-06-20T08:30:59.980031Z",
     "iopub.status.busy": "2021-06-20T08:30:59.979123Z",
     "iopub.status.idle": "2021-06-20T08:31:15.341933Z",
     "shell.execute_reply": "2021-06-20T08:31:15.341504Z",
     "shell.execute_reply.started": "2021-06-20T08:05:29.952996Z"
    },
    "papermill": {
     "duration": 15.435113,
     "end_time": "2021-06-20T08:31:15.342051",
     "exception": false,
     "start_time": "2021-06-20T08:30:59.906938",
     "status": "completed"
    },
    "tags": []
   },
   "outputs": [
    {
     "name": "stdout",
     "output_type": "stream",
     "text": [
      "Namespace(agnostic_nms=False, augment=False, classes=None, conf_thres=0.001, device='', exist_ok=True, img_size=512, iou_thres=0.5, name='exp', project='runs/detect', save_conf=True, save_txt=True, source='/kaggle/tmp/test/image', update=False, view_img=False, weights=['/kaggle/input/siim-cov19-yolov5-train/yolov5/runs/train/exp/weights/best.pt'])\r\n",
      "Fusing layers... \r\n",
      "image 1/2 /kaggle/tmp/test/image/51759b5579bc_image.png: 512x512 20 0. opacitys, Done. (0.056s)\r\n",
      "image 2/2 /kaggle/tmp/test/image/65761e66de9f_image.png: 512x512 24 0. opacitys, Done. (0.048s)\r\n",
      "Results saved to runs/detect/exp\r\n",
      "2 labels saved to runs/detect/exp/labels\r\n",
      "Done. (0.337s)\r\n"
     ]
    },
    {
     "data": {
      "application/vnd.jupyter.widget-view+json": {
       "model_id": "175def4025ed487b95f6bc52b9b0790a",
       "version_major": 2,
       "version_minor": 0
      },
      "text/plain": [
       "  0%|          | 0/2 [00:00<?, ?it/s]"
      ]
     },
     "metadata": {},
     "output_type": "display_data"
    }
   ],
   "source": [
    "dim = 512 \n",
    "test_dir = f'/kaggle/tmp/{split}/image'\n",
    "weights_dir = '/kaggle/input/siim-cov19-yolov5-train/yolov5/runs/train/exp/weights/best.pt'\n",
    "\n",
    "shutil.copytree('/kaggle/input/yolov5-official-v31-dataset/yolov5', '/kaggle/working/yolov5')\n",
    "os.chdir('/kaggle/working/yolov5') \n",
    "\n",
    "import torch\n",
    "\n",
    "\n",
    "!python detect.py --weights $weights_dir\\\n",
    "--img 512\\\n",
    "--conf 0.001\\\n",
    "--iou 0.5\\\n",
    "--source $test_dir\\\n",
    "--save-txt --save-conf --exist-ok\n",
    "def yolo2voc(image_height, image_width, bboxes):\n",
    "    \"\"\"\n",
    "    yolo => [xmid, ymid, w, h] (normalized)\n",
    "    voc  => [x1, y1, x2, y1]\n",
    "\n",
    "    \"\"\" \n",
    "    bboxes = bboxes.copy().astype(float) # otherwise all value will be 0 as voc_pascal dtype is np.int\n",
    "\n",
    "    bboxes[..., [0, 2]] = bboxes[..., [0, 2]]* image_width\n",
    "    bboxes[..., [1, 3]] = bboxes[..., [1, 3]]* image_height\n",
    "\n",
    "    bboxes[..., [0, 1]] = bboxes[..., [0, 1]] - bboxes[..., [2, 3]]/2\n",
    "    bboxes[..., [2, 3]] = bboxes[..., [0, 1]] + bboxes[..., [2, 3]]\n",
    "\n",
    "    return bboxes\n",
    "image_ids = []\n",
    "PredictionStrings = []\n",
    "\n",
    "for file_path in tqdm(glob('runs/detect/exp/labels/*.txt')):\n",
    "    image_id = file_path.split('/')[-1].split('.')[0]\n",
    "    w, h = test_df.loc[test_df.id==image_id,['dim1', 'dim0']].values[0]\n",
    "    f = open(file_path, 'r')\n",
    "    data = np.array(f.read().replace('\\n', ' ').strip().split(' ')).astype(np.float32).reshape(-1, 6)\n",
    "    data = data[:, [0, 5, 1, 2, 3, 4]]\n",
    "    bboxes = list(np.round(np.concatenate((data[:, :2], np.round(yolo2voc(h, w, data[:, 2:]))), axis =1).reshape(-1), 12).astype(str))\n",
    "    for idx in range(len(bboxes)):\n",
    "        bboxes[idx] = str(int(float(bboxes[idx]))) if idx%6!=1 else bboxes[idx]\n",
    "    image_ids.append(image_id)\n",
    "    PredictionStrings.append(' '.join(bboxes))\n",
    "\n",
    "\n",
    "pred_df = pd.DataFrame({'id':image_ids,\n",
    "                        'PredictionString':PredictionStrings})"
   ]
  },
  {
   "cell_type": "code",
   "execution_count": 20,
   "metadata": {
    "execution": {
     "iopub.execute_input": "2021-06-20T08:31:15.445872Z",
     "iopub.status.busy": "2021-06-20T08:31:15.445030Z",
     "iopub.status.idle": "2021-06-20T08:31:15.587957Z",
     "shell.execute_reply": "2021-06-20T08:31:15.586915Z",
     "shell.execute_reply.started": "2021-06-20T08:08:27.130945Z"
    },
    "papermill": {
     "duration": 0.204542,
     "end_time": "2021-06-20T08:31:15.588087",
     "exception": false,
     "start_time": "2021-06-20T08:31:15.383545",
     "status": "completed"
    },
    "tags": []
   },
   "outputs": [],
   "source": [
    "test_df = test_df.drop(['PredictionString'], axis=1)\n",
    "sub_df = pd.merge(test_df, pred_df, on = 'id', how = 'left').fillna(\"none 1 0 0 1 1\")\n",
    "sub_df = sub_df[['id', 'PredictionString']]\n",
    "for i in range(sub_df.shape[0]):\n",
    "    if sub_df.loc[i,'PredictionString'] == \"none 1 0 0 1 1\":\n",
    "        continue\n",
    "    sub_df_split = sub_df.loc[i,'PredictionString'].split()\n",
    "    sub_df_list = []\n",
    "    for j in range(int(len(sub_df_split) / 6)):\n",
    "        sub_df_list.append('opacity')\n",
    "        sub_df_list.append(sub_df_split[6 * j + 1])\n",
    "        sub_df_list.append(sub_df_split[6 * j + 2])\n",
    "        sub_df_list.append(sub_df_split[6 * j + 3])\n",
    "        sub_df_list.append(sub_df_split[6 * j + 4])\n",
    "        sub_df_list.append(sub_df_split[6 * j + 5])\n",
    "    sub_df.loc[i,'PredictionString'] = ' '.join(sub_df_list)\n",
    "sub_df['none'] = df_2class['none'] \n",
    "for i in range(sub_df.shape[0]):\n",
    "    if sub_df.loc[i,'PredictionString'] != 'none 1 0 0 1 1':\n",
    "        sub_df.loc[i,'PredictionString'] = sub_df.loc[i,'PredictionString'] + ' none ' + str(sub_df.loc[i,'none']) + ' 0 0 1 1'\n",
    "sub_df = sub_df[['id', 'PredictionString']]   \n",
    "df_study = df_study[:study_len]\n",
    "df_study = df_study.append(sub_df).reset_index(drop=True)\n",
    "df_study.to_csv('/kaggle/working/submission.csv',index = False)  \n",
    "shutil.rmtree('/kaggle/working/yolov5')"
   ]
  },
  {
   "cell_type": "code",
   "execution_count": 21,
   "metadata": {
    "execution": {
     "iopub.execute_input": "2021-06-20T08:31:15.679275Z",
     "iopub.status.busy": "2021-06-20T08:31:15.678584Z",
     "iopub.status.idle": "2021-06-20T08:31:15.681668Z",
     "shell.execute_reply": "2021-06-20T08:31:15.682066Z",
     "shell.execute_reply.started": "2021-06-20T08:09:18.130600Z"
    },
    "papermill": {
     "duration": 0.053524,
     "end_time": "2021-06-20T08:31:15.682196",
     "exception": false,
     "start_time": "2021-06-20T08:31:15.628672",
     "status": "completed"
    },
    "tags": []
   },
   "outputs": [
    {
     "data": {
      "text/html": [
       "<div>\n",
       "<style scoped>\n",
       "    .dataframe tbody tr th:only-of-type {\n",
       "        vertical-align: middle;\n",
       "    }\n",
       "\n",
       "    .dataframe tbody tr th {\n",
       "        vertical-align: top;\n",
       "    }\n",
       "\n",
       "    .dataframe thead th {\n",
       "        text-align: right;\n",
       "    }\n",
       "</style>\n",
       "<table border=\"1\" class=\"dataframe\">\n",
       "  <thead>\n",
       "    <tr style=\"text-align: right;\">\n",
       "      <th></th>\n",
       "      <th>id</th>\n",
       "      <th>PredictionString</th>\n",
       "    </tr>\n",
       "  </thead>\n",
       "  <tbody>\n",
       "    <tr>\n",
       "      <th>0</th>\n",
       "      <td>00086460a852_study</td>\n",
       "      <td>negative 0.07609739154577255 0 0 1 1 typical 0...</td>\n",
       "    </tr>\n",
       "    <tr>\n",
       "      <th>1</th>\n",
       "      <td>000c9c05fd14_study</td>\n",
       "      <td>negative 0.18779979646205902 0 0 1 1 typical 0...</td>\n",
       "    </tr>\n",
       "    <tr>\n",
       "      <th>2</th>\n",
       "      <td>65761e66de9f_image</td>\n",
       "      <td>opacity 0.001182559994 2093 805 2370 1206 opac...</td>\n",
       "    </tr>\n",
       "    <tr>\n",
       "      <th>3</th>\n",
       "      <td>51759b5579bc_image</td>\n",
       "      <td>opacity 0.001047129976 1637 1341 2338 2302 opa...</td>\n",
       "    </tr>\n",
       "  </tbody>\n",
       "</table>\n",
       "</div>"
      ],
      "text/plain": [
       "                   id                                   PredictionString\n",
       "0  00086460a852_study  negative 0.07609739154577255 0 0 1 1 typical 0...\n",
       "1  000c9c05fd14_study  negative 0.18779979646205902 0 0 1 1 typical 0...\n",
       "2  65761e66de9f_image  opacity 0.001182559994 2093 805 2370 1206 opac...\n",
       "3  51759b5579bc_image  opacity 0.001047129976 1637 1341 2338 2302 opa..."
      ]
     },
     "execution_count": 21,
     "metadata": {},
     "output_type": "execute_result"
    }
   ],
   "source": [
    "df_study"
   ]
  },
  {
   "cell_type": "code",
   "execution_count": null,
   "metadata": {
    "papermill": {
     "duration": 0.040411,
     "end_time": "2021-06-20T08:31:15.763162",
     "exception": false,
     "start_time": "2021-06-20T08:31:15.722751",
     "status": "completed"
    },
    "tags": []
   },
   "outputs": [],
   "source": []
  }
 ],
 "metadata": {
  "kernelspec": {
   "display_name": "Python 3",
   "language": "python",
   "name": "python3"
  },
  "language_info": {
   "codemirror_mode": {
    "name": "ipython",
    "version": 3
   },
   "file_extension": ".py",
   "mimetype": "text/x-python",
   "name": "python",
   "nbconvert_exporter": "python",
   "pygments_lexer": "ipython3",
   "version": "3.7.4"
  },
  "papermill": {
   "default_parameters": {},
   "duration": 424.861134,
   "end_time": "2021-06-20T08:31:18.520683",
   "environment_variables": {},
   "exception": null,
   "input_path": "__notebook__.ipynb",
   "output_path": "__notebook__.ipynb",
   "parameters": {},
   "start_time": "2021-06-20T08:24:13.659549",
   "version": "2.3.3"
  },
  "widgets": {
   "application/vnd.jupyter.widget-state+json": {
    "state": {
     "1586de77e06a4504b28b1d6bc749036f": {
      "model_module": "@jupyter-widgets/controls",
      "model_module_version": "1.5.0",
      "model_name": "DescriptionStyleModel",
      "state": {
       "_model_module": "@jupyter-widgets/controls",
       "_model_module_version": "1.5.0",
       "_model_name": "DescriptionStyleModel",
       "_view_count": null,
       "_view_module": "@jupyter-widgets/base",
       "_view_module_version": "1.2.0",
       "_view_name": "StyleView",
       "description_width": ""
      }
     },
     "175def4025ed487b95f6bc52b9b0790a": {
      "model_module": "@jupyter-widgets/controls",
      "model_module_version": "1.5.0",
      "model_name": "HBoxModel",
      "state": {
       "_dom_classes": [],
       "_model_module": "@jupyter-widgets/controls",
       "_model_module_version": "1.5.0",
       "_model_name": "HBoxModel",
       "_view_count": null,
       "_view_module": "@jupyter-widgets/controls",
       "_view_module_version": "1.5.0",
       "_view_name": "HBoxView",
       "box_style": "",
       "children": [
        "IPY_MODEL_f2c8cda28a674caaa36e361f36bbf116",
        "IPY_MODEL_bbee1a05f43b4d4f9a25c6c380fe884e",
        "IPY_MODEL_e2454fb7016c43b090829f1565c6bf57"
       ],
       "layout": "IPY_MODEL_3f433126b70e4cd2895b37a1462cd91b"
      }
     },
     "38ae8b825aea4632845e733e6a8855c9": {
      "model_module": "@jupyter-widgets/controls",
      "model_module_version": "1.5.0",
      "model_name": "ProgressStyleModel",
      "state": {
       "_model_module": "@jupyter-widgets/controls",
       "_model_module_version": "1.5.0",
       "_model_name": "ProgressStyleModel",
       "_view_count": null,
       "_view_module": "@jupyter-widgets/base",
       "_view_module_version": "1.2.0",
       "_view_name": "StyleView",
       "bar_color": null,
       "description_width": ""
      }
     },
     "3bca65d517c244dfb1f69630f0fd1474": {
      "model_module": "@jupyter-widgets/controls",
      "model_module_version": "1.5.0",
      "model_name": "DescriptionStyleModel",
      "state": {
       "_model_module": "@jupyter-widgets/controls",
       "_model_module_version": "1.5.0",
       "_model_name": "DescriptionStyleModel",
       "_view_count": null,
       "_view_module": "@jupyter-widgets/base",
       "_view_module_version": "1.2.0",
       "_view_name": "StyleView",
       "description_width": ""
      }
     },
     "3f433126b70e4cd2895b37a1462cd91b": {
      "model_module": "@jupyter-widgets/base",
      "model_module_version": "1.2.0",
      "model_name": "LayoutModel",
      "state": {
       "_model_module": "@jupyter-widgets/base",
       "_model_module_version": "1.2.0",
       "_model_name": "LayoutModel",
       "_view_count": null,
       "_view_module": "@jupyter-widgets/base",
       "_view_module_version": "1.2.0",
       "_view_name": "LayoutView",
       "align_content": null,
       "align_items": null,
       "align_self": null,
       "border": null,
       "bottom": null,
       "display": null,
       "flex": null,
       "flex_flow": null,
       "grid_area": null,
       "grid_auto_columns": null,
       "grid_auto_flow": null,
       "grid_auto_rows": null,
       "grid_column": null,
       "grid_gap": null,
       "grid_row": null,
       "grid_template_areas": null,
       "grid_template_columns": null,
       "grid_template_rows": null,
       "height": null,
       "justify_content": null,
       "justify_items": null,
       "left": null,
       "margin": null,
       "max_height": null,
       "max_width": null,
       "min_height": null,
       "min_width": null,
       "object_fit": null,
       "object_position": null,
       "order": null,
       "overflow": null,
       "overflow_x": null,
       "overflow_y": null,
       "padding": null,
       "right": null,
       "top": null,
       "visibility": null,
       "width": null
      }
     },
     "7ba757cf434a4e288b757d49ca929ca4": {
      "model_module": "@jupyter-widgets/base",
      "model_module_version": "1.2.0",
      "model_name": "LayoutModel",
      "state": {
       "_model_module": "@jupyter-widgets/base",
       "_model_module_version": "1.2.0",
       "_model_name": "LayoutModel",
       "_view_count": null,
       "_view_module": "@jupyter-widgets/base",
       "_view_module_version": "1.2.0",
       "_view_name": "LayoutView",
       "align_content": null,
       "align_items": null,
       "align_self": null,
       "border": null,
       "bottom": null,
       "display": null,
       "flex": null,
       "flex_flow": null,
       "grid_area": null,
       "grid_auto_columns": null,
       "grid_auto_flow": null,
       "grid_auto_rows": null,
       "grid_column": null,
       "grid_gap": null,
       "grid_row": null,
       "grid_template_areas": null,
       "grid_template_columns": null,
       "grid_template_rows": null,
       "height": null,
       "justify_content": null,
       "justify_items": null,
       "left": null,
       "margin": null,
       "max_height": null,
       "max_width": null,
       "min_height": null,
       "min_width": null,
       "object_fit": null,
       "object_position": null,
       "order": null,
       "overflow": null,
       "overflow_x": null,
       "overflow_y": null,
       "padding": null,
       "right": null,
       "top": null,
       "visibility": null,
       "width": null
      }
     },
     "9c03bd7483dd4eb49bfd9e1ffd0c18d2": {
      "model_module": "@jupyter-widgets/base",
      "model_module_version": "1.2.0",
      "model_name": "LayoutModel",
      "state": {
       "_model_module": "@jupyter-widgets/base",
       "_model_module_version": "1.2.0",
       "_model_name": "LayoutModel",
       "_view_count": null,
       "_view_module": "@jupyter-widgets/base",
       "_view_module_version": "1.2.0",
       "_view_name": "LayoutView",
       "align_content": null,
       "align_items": null,
       "align_self": null,
       "border": null,
       "bottom": null,
       "display": null,
       "flex": null,
       "flex_flow": null,
       "grid_area": null,
       "grid_auto_columns": null,
       "grid_auto_flow": null,
       "grid_auto_rows": null,
       "grid_column": null,
       "grid_gap": null,
       "grid_row": null,
       "grid_template_areas": null,
       "grid_template_columns": null,
       "grid_template_rows": null,
       "height": null,
       "justify_content": null,
       "justify_items": null,
       "left": null,
       "margin": null,
       "max_height": null,
       "max_width": null,
       "min_height": null,
       "min_width": null,
       "object_fit": null,
       "object_position": null,
       "order": null,
       "overflow": null,
       "overflow_x": null,
       "overflow_y": null,
       "padding": null,
       "right": null,
       "top": null,
       "visibility": null,
       "width": null
      }
     },
     "bbee1a05f43b4d4f9a25c6c380fe884e": {
      "model_module": "@jupyter-widgets/controls",
      "model_module_version": "1.5.0",
      "model_name": "FloatProgressModel",
      "state": {
       "_dom_classes": [],
       "_model_module": "@jupyter-widgets/controls",
       "_model_module_version": "1.5.0",
       "_model_name": "FloatProgressModel",
       "_view_count": null,
       "_view_module": "@jupyter-widgets/controls",
       "_view_module_version": "1.5.0",
       "_view_name": "ProgressView",
       "bar_style": "success",
       "description": "",
       "description_tooltip": null,
       "layout": "IPY_MODEL_9c03bd7483dd4eb49bfd9e1ffd0c18d2",
       "max": 2,
       "min": 0,
       "orientation": "horizontal",
       "style": "IPY_MODEL_38ae8b825aea4632845e733e6a8855c9",
       "value": 2
      }
     },
     "e2454fb7016c43b090829f1565c6bf57": {
      "model_module": "@jupyter-widgets/controls",
      "model_module_version": "1.5.0",
      "model_name": "HTMLModel",
      "state": {
       "_dom_classes": [],
       "_model_module": "@jupyter-widgets/controls",
       "_model_module_version": "1.5.0",
       "_model_name": "HTMLModel",
       "_view_count": null,
       "_view_module": "@jupyter-widgets/controls",
       "_view_module_version": "1.5.0",
       "_view_name": "HTMLView",
       "description": "",
       "description_tooltip": null,
       "layout": "IPY_MODEL_f92864a6cd97468c8221bbe7ad21b19c",
       "placeholder": "​",
       "style": "IPY_MODEL_3bca65d517c244dfb1f69630f0fd1474",
       "value": " 2/2 [00:00&lt;00:00, 57.33it/s]"
      }
     },
     "f2c8cda28a674caaa36e361f36bbf116": {
      "model_module": "@jupyter-widgets/controls",
      "model_module_version": "1.5.0",
      "model_name": "HTMLModel",
      "state": {
       "_dom_classes": [],
       "_model_module": "@jupyter-widgets/controls",
       "_model_module_version": "1.5.0",
       "_model_name": "HTMLModel",
       "_view_count": null,
       "_view_module": "@jupyter-widgets/controls",
       "_view_module_version": "1.5.0",
       "_view_name": "HTMLView",
       "description": "",
       "description_tooltip": null,
       "layout": "IPY_MODEL_7ba757cf434a4e288b757d49ca929ca4",
       "placeholder": "​",
       "style": "IPY_MODEL_1586de77e06a4504b28b1d6bc749036f",
       "value": "100%"
      }
     },
     "f92864a6cd97468c8221bbe7ad21b19c": {
      "model_module": "@jupyter-widgets/base",
      "model_module_version": "1.2.0",
      "model_name": "LayoutModel",
      "state": {
       "_model_module": "@jupyter-widgets/base",
       "_model_module_version": "1.2.0",
       "_model_name": "LayoutModel",
       "_view_count": null,
       "_view_module": "@jupyter-widgets/base",
       "_view_module_version": "1.2.0",
       "_view_name": "LayoutView",
       "align_content": null,
       "align_items": null,
       "align_self": null,
       "border": null,
       "bottom": null,
       "display": null,
       "flex": null,
       "flex_flow": null,
       "grid_area": null,
       "grid_auto_columns": null,
       "grid_auto_flow": null,
       "grid_auto_rows": null,
       "grid_column": null,
       "grid_gap": null,
       "grid_row": null,
       "grid_template_areas": null,
       "grid_template_columns": null,
       "grid_template_rows": null,
       "height": null,
       "justify_content": null,
       "justify_items": null,
       "left": null,
       "margin": null,
       "max_height": null,
       "max_width": null,
       "min_height": null,
       "min_width": null,
       "object_fit": null,
       "object_position": null,
       "order": null,
       "overflow": null,
       "overflow_x": null,
       "overflow_y": null,
       "padding": null,
       "right": null,
       "top": null,
       "visibility": null,
       "width": null
      }
     }
    },
    "version_major": 2,
    "version_minor": 0
   }
  }
 },
 "nbformat": 4,
 "nbformat_minor": 5
}
